{
 "cells": [
  {
   "cell_type": "code",
   "execution_count": 9,
   "metadata": {},
   "outputs": [],
   "source": [
    "import numpy as np\n",
    "import sys\n",
    "import matplotlib.pyplot as plt"
   ]
  },
  {
   "cell_type": "code",
   "execution_count": 10,
   "metadata": {},
   "outputs": [],
   "source": [
    "class GeneratorNN(object):\n",
    "    \n",
    "    def __init__(self, learning_rate=0.1):\n",
    "        self.weights_0_1 = np.random.normal(0.0, 2 ** -0.5, (3, 3))\n",
    "        self.weights_1_2 = np.random.normal(0.0, 1, (2, 3))\n",
    "        self.weights_2_3 = np.random.normal(0.0, 1, (1, 2))\n",
    "        self.sigmoid_mapper = np.vectorize(self.sigmoid)\n",
    "        self.learning_rate = np.array([learning_rate])\n",
    "        \n",
    "    def sigmoid(self, x):\n",
    "        return 1 / (1 + np.exp(-x))\n",
    "    \n",
    "    def predict(self, inputs):\n",
    "        inputs_1 = np.dot(self.weights_0_1, inputs)\n",
    "        outputs_1 = self.sigmoid_mapper(inputs_1)\n",
    "        \n",
    "        inputs_2 = np.dot(self.weights_1_2, outputs_1)\n",
    "        outputs_2 = self.sigmoid_mapper(inputs_2)\n",
    "        \n",
    "        inputs_3 = np.dot(self.weights_2_3, outputs_2)\n",
    "        outputs_3 = self.sigmoid_mapper(inputs_3)\n",
    "        return outputs_3\n",
    "    \n",
    "    def train(self, inputs, expected_predict):     \n",
    "        inputs_1 = np.dot(self.weights_0_1, inputs)\n",
    "        outputs_1 = self.sigmoid_mapper(inputs_1)\n",
    "        \n",
    "        inputs_2 = np.dot(self.weights_1_2, outputs_1)\n",
    "        outputs_2 = self.sigmoid_mapper(inputs_2)\n",
    "        \n",
    "        inputs_3 = np.dot(self.weights_2_3, outputs_2)\n",
    "        outputs_3 = self.sigmoid_mapper(inputs_3)\n",
    "        actual_predict = outputs_3[0]\n",
    "        \n",
    "        error_layer_3 = np.array([actual_predict - expected_predict])\n",
    "        gradient_layer_3 = actual_predict * (1 - actual_predict)\n",
    "        weights_delta_layer_3 = error_layer_3 * gradient_layer_3 \n",
    "        self.weights_2_3 -= (np.dot(weights_delta_layer_3, outputs_2.reshape(1, len(outputs_2)))) * self.learning_rate\n",
    "       \n",
    "        error_layer_2 = weights_delta_layer_3 * self.weights_2_3\n",
    "        gradient_layer_2 = outputs_2 * (1 - outputs_2)\n",
    "        weights_delta_layer_2 = error_layer_2 * gradient_layer_2\n",
    "        self.weights_1_2 -= np.dot(outputs_1.reshape(len(outputs_1), 1), weights_delta_layer_2).T  * self.learning_rate\n",
    "        \n",
    "        error_layer_1 = np.dot(weights_delta_layer_2, self.weights_1_2)\n",
    "        gradient_layer_1 = outputs_1 * (1 - outputs_1)\n",
    "        weights_delta_layer_1 = error_layer_1 * gradient_layer_1\n",
    "        self.weights_0_1 -= np.dot(inputs.reshape(len(inputs), 1), weights_delta_layer_1).T  * self.learning_rate\n",
    "        \n"
   ]
  },
  {
   "cell_type": "code",
   "execution_count": 11,
   "metadata": {},
   "outputs": [],
   "source": [
    "def MSE(y, Y):\n",
    "    return np.mean((y-Y)**2)"
   ]
  },
  {
   "cell_type": "code",
   "execution_count": 50,
   "metadata": {},
   "outputs": [],
   "source": [
    "train = [\n",
    "    ([0.2, 0.14, 0.75], 0.1),\n",
    "    ([0.1, 0.4, 0.80], 0.2),\n",
    "    ([0.1, 0.4, 0.83], 0.3),\n",
    "    ([0.2, 0.16, 0.60], 0.9),\n",
    "    ([0.1, 0.12, 0.55], 0.2),\n",
    "    ([0.2, 0.11, 0.30], 0.9),\n",
    "    ([0.1, 0.16, 0.80], 0.8),\n",
    "    ([0.1, 0.12, 0.37], 0.9),\n",
    "    ([0.2, 0.15, 0.76], 0.1),\n",
    "    ([0.1, 0.5, 0.80], 0.2),\n",
    "    ([0.1, 0.4, 0.84], 0.9),\n",
    "    ([0.2, 0.12, 0.60], 0.9),\n",
    "    ([0.1, 0.13, 0.45], 0.2),\n",
    "    ([0.1, 0.12, 0.80], 0.9),\n",
    "    ([0.1, 0.13, 0.80], 0.1),\n",
    "    ([0.1, 0.11, 0.31], 0.9),\n",
    "    ([0.2, 0.12, 0.73], 0.1),\n",
    "    ([0.1, 0.5, 0.40], 0.2),\n",
    "    ([0.1, 0.2, 0.73], 0.1),\n",
    "    ([0.2, 0.16, 0.62], 0.9),\n",
    "    ([0.1, 0.11, 0.55], 0.2),\n",
    "    ([0.1, 0.11, 0.80], 0.9),\n",
    "    ([0.1, 0.16, 0.80], 0.8),\n",
    "    ([0.1, 0.12, 0.37], 0.9),\n",
    "    ([0.2, 0.14, 0.75], 0.1),\n",
    "    ([0.1, 0.4, 0.80], 0.2),\n",
    "    ([0.1, 0.4, 0.83], 0.3),\n",
    "    ([0.2, 0.16, 0.60], 0.9),\n",
    "    ([0.1, 0.12, 0.55], 0.2),\n",
    "    ([0.1, 0.11, 0.80], 0.8),\n",
    "    ([0.1, 0.16, 0.80], 0.1),\n",
    "    ([0.1, 0.12, 0.37], 0.9),\n",
    "    ([0.2, 0.11, 0.85], 0.2),\n",
    "    ([0.1, 0.4, 0.80], 0.2),\n",
    "    ([0.1, 0.4, 0.83], 0.3),\n",
    "    ([0.2, 0.12, 0.50], 0.1),\n",
    "    ([0.1, 0.12, 0.55], 0.2),\n",
    "    ([0.1, 0.11, 0.80], 0.9),\n",
    "    ([0.1, 0.18, 0.81], 0.1),\n",
    "    ([0.1, 0.12, 0.38], 0.9),\n",
    "]"
   ]
  },
  {
   "cell_type": "code",
   "execution_count": 51,
   "metadata": {},
   "outputs": [
    {
     "name": "stdout",
     "output_type": "stream",
     "text": [
      "Progress: 99.9, Training loss: 0.102"
     ]
    }
   ],
   "source": [
    "#epochs = 5000\n",
    "#learning_rate = 0.05\n",
    "epochs = 6000\n",
    "learning_rate = 0.08\n",
    "\n",
    "network = GeneratorNN(learning_rate=learning_rate)\n",
    "points = []\n",
    "for e in range(epochs):\n",
    "    inputs_ = []\n",
    "    correct_predictions = []\n",
    "\n",
    "    for input_stat, correct_predict in train:\n",
    "        network.train(np.array(input_stat), correct_predict)\n",
    "        inputs_.append(np.array(input_stat))\n",
    "        correct_predictions.append(np.array(correct_predict))\n",
    "    train_loss = MSE(network.predict(np.array(inputs_).T), np.array(correct_predictions))    \n",
    "    if e % 20 == 0:\n",
    "        points.append((train_loss, e))\n",
    "    \n",
    "    sys.stdout.write(\"\\rProgress: {}, Training loss: {}\".format(str(100 * e/float(epochs))[:4], str(train_loss)[:5]))"
   ]
  },
  {
   "cell_type": "code",
   "execution_count": 42,
   "metadata": {},
   "outputs": [
    {
     "data": {
      "image/png": "[encoded data removed]",
      "text/plain": [
       "<Figure size 432x288 with 1 Axes>"
      ]
     },
     "metadata": {
      "needs_background": "light"
     },
     "output_type": "display_data"
    }
   ],
   "source": [
    "x = [x[1] for x in points]\n",
    "y = [x[0] for x in points]\n",
    "\n",
    "plt.plot(x,y)\n",
    "plt.show()"
   ]
  },
  {
   "cell_type": "code",
   "execution_count": 38,
   "metadata": {},
   "outputs": [
    {
     "name": "stdout",
     "output_type": "stream",
     "text": [
      "For input: [0.208, 0.14, 0.75] the prediction is: [False], expected: False\n",
      "For input: [0.119, 0.4, 0.8] the prediction is: [False], expected: False\n",
      "For input: [0.12, 0.4, 0.83] the prediction is: [False], expected: False\n",
      "For input: [0.208, 0.16, 0.6] the prediction is: [False], expected: True\n",
      "For input: [0.115, 0.12, 0.55] the prediction is: [ True], expected: False\n",
      "For input: [0.21, 0.11, 0.3] the prediction is: [ True], expected: True\n",
      "For input: [0.119, 0.16, 0.8] the prediction is: [False], expected: True\n",
      "For input: [0.109, 0.12, 0.37] the prediction is: [ True], expected: True\n",
      "For input: [0.209, 0.15, 0.76] the prediction is: [False], expected: False\n",
      "For input: [0.12, 0.5, 0.8] the prediction is: [False], expected: False\n",
      "For input: [0.12, 0.4, 0.84] the prediction is: [False], expected: True\n",
      "For input: [0.211, 0.12, 0.6] the prediction is: [False], expected: True\n",
      "For input: [0.116, 0.13, 0.45] the prediction is: [ True], expected: False\n",
      "For input: [0.111, 0.12, 0.8] the prediction is: [False], expected: True\n",
      "For input: [0.119, 0.13, 0.8] the prediction is: [False], expected: False\n",
      "For input: [0.113, 0.11, 0.31] the prediction is: [ True], expected: True\n",
      "For input: [0.21, 0.12, 0.73] the prediction is: [False], expected: False\n",
      "For input: [0.114, 0.5, 0.4] the prediction is: [False], expected: False\n",
      "For input: [0.122, 0.2, 0.73] the prediction is: [False], expected: False\n",
      "For input: [0.218, 0.16, 0.62] the prediction is: [False], expected: True\n",
      "For input: [0.114, 0.11, 0.55] the prediction is: [ True], expected: False\n",
      "For input: [0.112, 0.11, 0.8] the prediction is: [False], expected: True\n",
      "For input: [0.119, 0.16, 0.8] the prediction is: [False], expected: True\n",
      "For input: [0.109, 0.12, 0.37] the prediction is: [ True], expected: True\n",
      "For input: [0.208, 0.14, 0.75] the prediction is: [False], expected: False\n",
      "For input: [0.119, 0.4, 0.8] the prediction is: [False], expected: False\n",
      "For input: [0.12, 0.4, 0.83] the prediction is: [False], expected: False\n",
      "For input: [0.208, 0.16, 0.6] the prediction is: [False], expected: True\n",
      "For input: [0.115, 0.12, 0.55] the prediction is: [ True], expected: False\n",
      "For input: [0.11, 0.11, 0.8] the prediction is: [False], expected: True\n",
      "For input: [0.119, 0.16, 0.8] the prediction is: [False], expected: False\n",
      "For input: [0.109, 0.12, 0.37] the prediction is: [ True], expected: True\n",
      "For input: [0.208, 0.11, 0.85] the prediction is: [False], expected: False\n",
      "For input: [0.119, 0.4, 0.8] the prediction is: [False], expected: False\n",
      "For input: [0.12, 0.4, 0.83] the prediction is: [False], expected: False\n",
      "For input: [0.207, 0.12, 0.5] the prediction is: [ True], expected: False\n",
      "For input: [0.115, 0.12, 0.55] the prediction is: [ True], expected: False\n",
      "For input: [0.11, 0.11, 0.8] the prediction is: [False], expected: True\n",
      "For input: [0.119, 0.18, 0.81] the prediction is: [False], expected: False\n",
      "For input: [0.11, 0.12, 0.38] the prediction is: [ True], expected: True\n"
     ]
    }
   ],
   "source": [
    "for input_stat, correct_predict in train:\n",
    "    print(\"For input: {} the prediction is: {}, expected: {}\".format(\n",
    "        str(input_stat), \n",
    "        str(network.predict(np.array(input_stat)) > .5),\n",
    "        str(correct_predict >= 0.6)))\n",
    "        "
   ]
  },
  {
   "cell_type": "code",
   "execution_count": 39,
   "metadata": {},
   "outputs": [
    {
     "name": "stdout",
     "output_type": "stream",
     "text": [
      "For input: [0.208, 0.14, 0.75] the prediction is: [0.41197092], expected: False\n",
      "For input: [0.119, 0.4, 0.8] the prediction is: [0.34608948], expected: False\n",
      "For input: [0.12, 0.4, 0.83] the prediction is: [0.34368156], expected: False\n",
      "For input: [0.208, 0.16, 0.6] the prediction is: [0.47116688], expected: True\n",
      "For input: [0.115, 0.12, 0.55] the prediction is: [0.51807753], expected: False\n",
      "For input: [0.21, 0.11, 0.3] the prediction is: [0.84579992], expected: True\n",
      "For input: [0.119, 0.16, 0.8] the prediction is: [0.38595297], expected: True\n",
      "For input: [0.109, 0.12, 0.37] the prediction is: [0.70978355], expected: True\n",
      "For input: [0.209, 0.15, 0.76] the prediction is: [0.4052617], expected: False\n",
      "For input: [0.12, 0.5, 0.8] the prediction is: [0.33717273], expected: False\n",
      "For input: [0.12, 0.4, 0.84] the prediction is: [0.3429391], expected: True\n",
      "For input: [0.211, 0.12, 0.6] the prediction is: [0.49870954], expected: True\n",
      "For input: [0.116, 0.13, 0.45] the prediction is: [0.60243352], expected: False\n",
      "For input: [0.111, 0.12, 0.8] the prediction is: [0.39633577], expected: True\n",
      "For input: [0.119, 0.13, 0.8] the prediction is: [0.39395253], expected: False\n",
      "For input: [0.113, 0.11, 0.31] the prediction is: [0.80287348], expected: True\n",
      "For input: [0.21, 0.12, 0.73] the prediction is: [0.4275574], expected: False\n",
      "For input: [0.114, 0.5, 0.4] the prediction is: [0.39478148], expected: False\n",
      "For input: [0.122, 0.2, 0.73] the prediction is: [0.39269456], expected: False\n",
      "For input: [0.218, 0.16, 0.62] the prediction is: [0.46104376], expected: True\n",
      "For input: [0.114, 0.11, 0.55] the prediction is: [0.52608381], expected: False\n",
      "For input: [0.112, 0.11, 0.8] the prediction is: [0.39937498], expected: True\n",
      "For input: [0.119, 0.16, 0.8] the prediction is: [0.38595297], expected: True\n",
      "For input: [0.109, 0.12, 0.37] the prediction is: [0.70978355], expected: True\n",
      "For input: [0.208, 0.14, 0.75] the prediction is: [0.41197092], expected: False\n",
      "For input: [0.119, 0.4, 0.8] the prediction is: [0.34608948], expected: False\n",
      "For input: [0.12, 0.4, 0.83] the prediction is: [0.34368156], expected: False\n",
      "For input: [0.208, 0.16, 0.6] the prediction is: [0.47116688], expected: True\n",
      "For input: [0.115, 0.12, 0.55] the prediction is: [0.51807753], expected: False\n",
      "For input: [0.11, 0.11, 0.8] the prediction is: [0.3992444], expected: True\n",
      "For input: [0.119, 0.16, 0.8] the prediction is: [0.38595297], expected: False\n",
      "For input: [0.109, 0.12, 0.37] the prediction is: [0.70978355], expected: True\n",
      "For input: [0.208, 0.11, 0.85] the prediction is: [0.39190182], expected: False\n",
      "For input: [0.119, 0.4, 0.8] the prediction is: [0.34608948], expected: False\n",
      "For input: [0.12, 0.4, 0.83] the prediction is: [0.34368156], expected: False\n",
      "For input: [0.207, 0.12, 0.5] the prediction is: [0.58482252], expected: False\n",
      "For input: [0.115, 0.12, 0.55] the prediction is: [0.51807753], expected: False\n",
      "For input: [0.11, 0.11, 0.8] the prediction is: [0.3992444], expected: True\n",
      "For input: [0.119, 0.18, 0.81] the prediction is: [0.37903404], expected: False\n",
      "For input: [0.11, 0.12, 0.38] the prediction is: [0.69708647], expected: True\n"
     ]
    }
   ],
   "source": [
    "for input_stat, correct_predict in train:\n",
    "    print(\"For input: {} the prediction is: {}, expected: {}\".format(\n",
    "        str(input_stat), \n",
    "        str(network.predict(np.array(input_stat))),\n",
    "        str(correct_predict >= 0.6)))"
   ]
  },
  {
   "cell_type": "code",
   "execution_count": 40,
   "metadata": {},
   "outputs": [
    {
     "data": {
      "text/plain": [
       "array([[-0.38223942,  2.45009354,  3.07662993],\n",
       "       [-0.71021856, -0.14872659,  1.0016193 ],\n",
       "       [ 1.07708018, -3.21214365, -3.04795862]])"
      ]
     },
     "execution_count": 40,
     "metadata": {},
     "output_type": "execute_result"
    }
   ],
   "source": [
    "network.weights_0_1"
   ]
  },
  {
   "cell_type": "code",
   "execution_count": 13,
   "metadata": {},
   "outputs": [
    {
     "data": {
      "text/plain": [
       "array([[-1.32214211,  1.4287101 ,  0.32520234],\n",
       "       [-0.01124048,  0.8681332 , -0.27524922]])"
      ]
     },
     "execution_count": 13,
     "metadata": {},
     "output_type": "execute_result"
    }
   ],
   "source": [
    "network.weights_1_2"
   ]
  }
 ],
 "metadata": {
  "kernelspec": {
   "display_name": "Python 3",
   "language": "python",
   "name": "python3"
  },
  "language_info": {
   "codemirror_mode": {
    "name": "ipython",
    "version": 3
   },
   "file_extension": ".py",
   "mimetype": "text/x-python",
   "name": "python",
   "nbconvert_exporter": "python",
   "pygments_lexer": "ipython3",
   "version": "3.8.3"
  }
 },
 "nbformat": 4,
 "nbformat_minor": 2
}
